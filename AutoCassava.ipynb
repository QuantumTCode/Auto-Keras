{
 "cells": [
  {
   "cell_type": "code",
   "execution_count": null,
   "metadata": {
    "scrolled": true
   },
   "outputs": [],
   "source": [
    "import os\n",
    "import csv\n",
    "import sys\n",
    "import multiprocessing\n",
    "sys.path"
   ]
  },
  {
   "cell_type": "code",
   "execution_count": null,
   "metadata": {},
   "outputs": [],
   "source": [
    "size_of_image=1024"
   ]
  },
  {
   "cell_type": "code",
   "execution_count": null,
   "metadata": {},
   "outputs": [],
   "source": [
    "hours_for_training=0.1"
   ]
  },
  {
   "cell_type": "code",
   "execution_count": null,
   "metadata": {},
   "outputs": [],
   "source": [
    "import split_folders\n",
    "split_folders.ratio('data', output=\"split_data\", ratio=(.8, .1, .1)) "
   ]
  },
  {
   "cell_type": "code",
   "execution_count": null,
   "metadata": {},
   "outputs": [],
   "source": [
    "!cd split_data/train && find . -type f -name '*.JPG' -print0 | xargs -0 rename 's/\\.JPG/\\.jpg/'\n",
    "!cd split_data/val && find . -type f -name '*.JPG' -print0 | xargs -0 rename 's/\\.JPG/\\.jpg/'\n",
    "!cd split_data/test && find . -type f -name '*.JPG' -print0 | xargs -0 rename 's/\\.JPG/\\.jpg/'"
   ]
  },
  {
   "cell_type": "code",
   "execution_count": null,
   "metadata": {},
   "outputs": [],
   "source": [
    "train_dir = 'split_data/train' # Path to the train directory\n",
    "class_dirs = [i for i in os.listdir(path=train_dir) if os.path.isdir(os.path.join(train_dir, i))]\n",
    "with open('split_data/train/label.csv', 'w') as train_csv:\n",
    "    fieldnames = ['File Name', 'Label']\n",
    "    writer = csv.DictWriter(train_csv, fieldnames=fieldnames)\n",
    "    writer.writeheader()\n",
    "    label = 0\n",
    "    for current_class in class_dirs:\n",
    "        for image in os.listdir(os.path.join(train_dir, current_class)):\n",
    "            writer.writerow({'File Name': str(image), 'Label':label})\n",
    "        label += 1\n",
    "    train_csv.close()"
   ]
  },
  {
   "cell_type": "code",
   "execution_count": null,
   "metadata": {},
   "outputs": [],
   "source": [
    "from PIL import Image\n",
    "import os, sys\n",
    "import time\n",
    "from tqdm import tqdm\n",
    "!mkdir split_data/train_all\n",
    "!find split_data/train/ -type f -print0 | xargs -0 cp -t split_data/train_all\n",
    "!cd split_data/train_all && rm *.csv\n",
    "path = \"split_data/train_all/\"\n",
    "dirs = os.listdir( path )\n",
    "\n",
    "def resize(item):\n",
    "        if os.path.isfile(path+item):\n",
    "            im = Image.open(path+item)\n",
    "            f, e = os.path.splitext(path+item)\n",
    "            imResize = im.resize((size_of_image,size_of_image), Image.ANTIALIAS)\n",
    "            imResize.save(f+\"smaller.jpg\", 'JPEG', quality=100)\n",
    "\n",
    "\n",
    "processes = []\n",
    "pool = multiprocessing.Pool()\n",
    "pool.map(resize, dirs)\n",
    "pool.close()"
   ]
  },
  {
   "cell_type": "code",
   "execution_count": null,
   "metadata": {},
   "outputs": [],
   "source": [
    "!mkdir split_data/resized-train/\n",
    "!mv split_data/train_all/*smaller.jpg split_data/resized-train/\n",
    "!cd split_data/resized-train && for i in *.jpg; do     mv \"$i\" \"`echo $i | sed 's/smaller//'`\"; done"
   ]
  },
  {
   "cell_type": "code",
   "execution_count": null,
   "metadata": {},
   "outputs": [],
   "source": [
    "from autokeras.image.image_supervised import load_image_dataset"
   ]
  },
  {
   "cell_type": "code",
   "execution_count": null,
   "metadata": {},
   "outputs": [],
   "source": [
    "x_train, y_train = load_image_dataset(csv_file_path=\"split_data/train/label.csv\",\n",
    "                                      images_path=\"split_data/resized-train/\")\n",
    "print(x_train.shape)\n",
    "print(y_train.shape)\n"
   ]
  },
  {
   "cell_type": "code",
   "execution_count": null,
   "metadata": {},
   "outputs": [],
   "source": [
    "from autokeras.image.image_supervised import ImageClassifier"
   ]
  },
  {
   "cell_type": "code",
   "execution_count": null,
   "metadata": {
    "scrolled": false
   },
   "outputs": [],
   "source": [
    "!mkdir models\n",
    "clf = ImageClassifier(path=\"models/\",verbose=True)\n",
    "clf.fit(x_train, y_train, time_limit=hours_for_training*60*60)"
   ]
  },
  {
   "cell_type": "code",
   "execution_count": null,
   "metadata": {},
   "outputs": [],
   "source": [
    "train_dir = 'split_data/val' # Path to the train directory\n",
    "class_dirs = [i for i in os.listdir(path=train_dir) if os.path.isdir(os.path.join(train_dir, i))]\n",
    "with open('split_data/val/label.csv', 'w') as train_csv:\n",
    "    fieldnames = ['File Name', 'Label']\n",
    "    writer = csv.DictWriter(train_csv, fieldnames=fieldnames)\n",
    "    writer.writeheader()\n",
    "    label = 0\n",
    "    for current_class in class_dirs:\n",
    "        for image in os.listdir(os.path.join(train_dir, current_class)):\n",
    "            writer.writerow({'File Name': str(image), 'Label':label})\n",
    "        label += 1\n",
    "    train_csv.close()\n"
   ]
  },
  {
   "cell_type": "code",
   "execution_count": null,
   "metadata": {},
   "outputs": [],
   "source": [
    "!mkdir split_data/val_all\n",
    "!find split_data/val/ -type f -print0 | xargs -0 cp -t split_data/val_all\n",
    "!cd split_data/val_all && rm *.csv\n",
    "path = \"split_data/val_all/\"\n",
    "dirs = os.listdir( path )\n",
    "\n",
    "processes = []\n",
    "pool = multiprocessing.Pool()\n",
    "pool.map(resize, dirs)\n",
    "pool.close()"
   ]
  },
  {
   "cell_type": "code",
   "execution_count": null,
   "metadata": {},
   "outputs": [],
   "source": [
    "!mkdir split_data/resized-val\n",
    "!mv split_data/val_all/*smaller.jpg split_data/resized-val/\n",
    "!cd split_data/resized-val && for i in *.jpg; do     mv \"$i\" \"`echo $i | sed 's/smaller//'`\"; done"
   ]
  },
  {
   "cell_type": "code",
   "execution_count": null,
   "metadata": {},
   "outputs": [],
   "source": [
    "x_val, y_val = load_image_dataset(csv_file_path=\"split_data/val/label.csv\",\n",
    "                                      images_path=\"split_data/resized-val/\")\n",
    "print(x_val.shape)\n",
    "print(y_val.shape)\n"
   ]
  },
  {
   "cell_type": "code",
   "execution_count": null,
   "metadata": {},
   "outputs": [],
   "source": [
    "clf.final_fit(x_train, y_train, x_val, y_val, retrain=True)\n",
    "y = clf.evaluate(x_val, y_val)\n",
    "print(y)"
   ]
  },
  {
   "cell_type": "code",
   "execution_count": null,
   "metadata": {},
   "outputs": [],
   "source": [
    "train_dir = 'split_data/test' # Path to the train directory\n",
    "class_dirs = [i for i in os.listdir(path=train_dir) if os.path.isdir(os.path.join(train_dir, i))]\n",
    "with open('split_data/test/label.csv', 'w') as train_csv:\n",
    "    fieldnames = ['File Name', 'Label']\n",
    "    writer = csv.DictWriter(train_csv, fieldnames=fieldnames)\n",
    "    writer.writeheader()\n",
    "    label = 0\n",
    "    for current_class in class_dirs:\n",
    "        for image in os.listdir(os.path.join(train_dir, current_class)):\n",
    "            writer.writerow({'File Name': str(image), 'Label':label})\n",
    "        label += 1\n",
    "    train_csv.close()"
   ]
  },
  {
   "cell_type": "code",
   "execution_count": null,
   "metadata": {},
   "outputs": [],
   "source": [
    "!mkdir split_data/test_all\n",
    "!find split_data/test/ -type f -print0 | xargs -0 cp -t split_data/test_all\n",
    "!cd split_data/test_all && rm *.csv\n",
    "path = \"split_data/test_all/\"\n",
    "dirs = os.listdir( path )\n",
    "\n",
    "processes = []\n",
    "pool = multiprocessing.Pool()\n",
    "pool.map(resize, dirs)\n",
    "pool.close()"
   ]
  },
  {
   "cell_type": "code",
   "execution_count": null,
   "metadata": {},
   "outputs": [],
   "source": [
    "!mkdir split_data/resized-test\n",
    "!mv split_data/test_all/*smaller.jpg split_data/resized-test/\n",
    "!cd split_data/resized-test && for i in *.jpg; do     mv \"$i\" \"`echo $i | sed 's/smaller//'`\"; done"
   ]
  },
  {
   "cell_type": "code",
   "execution_count": null,
   "metadata": {},
   "outputs": [],
   "source": [
    "x_test, y_test = load_image_dataset(csv_file_path=\"split_data/test/label.csv\",\n",
    "                                      images_path=\"split_data/resized-test/\")\n",
    "print(x_test.shape)\n",
    "print(y_test.shape)"
   ]
  },
  {
   "cell_type": "code",
   "execution_count": null,
   "metadata": {},
   "outputs": [],
   "source": [
    "y = clf.evaluate(x_test, y_test)\n",
    "print(y)"
   ]
  },
  {
   "cell_type": "code",
   "execution_count": null,
   "metadata": {},
   "outputs": [],
   "source": [
    "import os\n",
    "from graphviz import Digraph\n",
    "\n",
    "from autokeras.utils import pickle_from_file\n",
    "\n",
    "\n",
    "def to_pdf(graph, path):\n",
    "    dot = Digraph(comment='The Round Table')\n",
    "\n",
    "    for index, node in enumerate(graph.node_list):\n",
    "        dot.node(str(index), str(node.shape))\n",
    "\n",
    "    for u in range(graph.n_nodes):\n",
    "        for v, layer_id in graph.adj_list[u]:\n",
    "            dot.edge(str(u), str(v), str(graph.layer_list[layer_id]))\n",
    "\n",
    "    dot.render(path)\n",
    "\n",
    "\n",
    "def visualize(path):\n",
    "    cnn_module = pickle_from_file(os.path.join(path, 'module'))\n",
    "    cnn_module.searcher.path = path\n",
    "    for item in cnn_module.searcher.history:\n",
    "        model_id = item['model_id']\n",
    "        graph = cnn_module.searcher.load_model_by_id(model_id)\n",
    "    to_pdf(graph, os.path.join(path, str(model_id)))"
   ]
  },
  {
   "cell_type": "code",
   "execution_count": null,
   "metadata": {},
   "outputs": [],
   "source": [
    "visualize('models/')"
   ]
  },
  {
   "cell_type": "code",
   "execution_count": null,
   "metadata": {},
   "outputs": [],
   "source": []
  },
  {
   "cell_type": "code",
   "execution_count": null,
   "metadata": {},
   "outputs": [],
   "source": []
  }
 ],
 "metadata": {
  "kernelspec": {
   "display_name": "Python 3",
   "language": "python",
   "name": "python3"
  },
  "language_info": {
   "codemirror_mode": {
    "name": "ipython",
    "version": 3
   },
   "file_extension": ".py",
   "mimetype": "text/x-python",
   "name": "python",
   "nbconvert_exporter": "python",
   "pygments_lexer": "ipython3",
   "version": "3.6.6"
  }
 },
 "nbformat": 4,
 "nbformat_minor": 2
}
